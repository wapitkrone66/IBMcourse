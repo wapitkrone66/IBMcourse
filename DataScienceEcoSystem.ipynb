{
 "cells": [
  {
   "cell_type": "markdown",
   "id": "7c31ff1a-2bce-4885-a088-224d78c314e6",
   "metadata": {},
   "source": [
    "<h1>Data Science Tools and Ecosystem</h1>"
   ]
  },
  {
   "cell_type": "markdown",
   "id": "cc273a87-6503-4bdb-b300-d0e483a119ef",
   "metadata": {},
   "source": [
    "In this notebook, Data Science Tools and Ecosystem are summarized."
   ]
  },
  {
   "cell_type": "markdown",
   "id": "47bc1ca1-63bd-4c4b-8448-6b7fc61d15de",
   "metadata": {},
   "source": [
    "Some of the popular languages that Data Scientists use are:\n",
    "<ol>\n",
    "    <li>Python</li>\n",
    "    <li>R</li>\n",
    "    <li>Julia</li>\n",
    "</ol>"
   ]
  },
  {
   "cell_type": "markdown",
   "id": "87800a46-27a9-4d65-be07-c1a8f5ca92cc",
   "metadata": {},
   "source": [
    "Some of the commonly used libraries by Data Scientists include:\n",
    "<ol>\n",
    "    <li>pandas</li>\n",
    "    <li>numpy</li>\n",
    "    <li>seaborn</li>\n",
    "    <li>scikit-learn</li>\n",
    "</ol>"
   ]
  },
  {
   "cell_type": "markdown",
   "id": "8f0cf879-ced3-4690-8d97-f7ee0fec8c65",
   "metadata": {},
   "source": [
    "| Data Science Tools |\n",
    "|:------------------:|\n",
    "| Jupyter Notebook |\n",
    "| RStudio |\n",
    "| Spyder | \n",
    "| VS Code | "
   ]
  },
  {
   "cell_type": "markdown",
   "id": "10788f23-b4f8-4ead-9895-bbce2fa9aed8",
   "metadata": {},
   "source": [
    "Below are a few examples of evaluating arithmetic expressions in Python\n",
    "\n",
    "### Examples:\n",
    "\n",
    "1. **Addition**: `5 + 3` results in `8`\n",
    "2. **Subtraction**: `10 - 7` results in `3`\n",
    "3. **Multiplication**: `4 * 6` results in `24`\n",
    "4. **Division**: `8 / 2` results in `4`\n",
    "5. **Exponentiation**: `3 ** 2` results in `9`\n",
    "6. **Modulo**: `10 % 3` results in `1`"
   ]
  },
  {
   "cell_type": "code",
   "execution_count": 9,
   "id": "9c524c55-a3e1-4f61-b611-2ea99aaf8bc1",
   "metadata": {},
   "outputs": [
    {
     "data": {
      "text/plain": [
       "17"
      ]
     },
     "execution_count": 9,
     "metadata": {},
     "output_type": "execute_result"
    }
   ],
   "source": [
    "#This a simple arithmetic expression to mutiply then add integers\n",
    "(3*4)+5"
   ]
  },
  {
   "cell_type": "code",
   "execution_count": 11,
   "id": "aaffc6f1-db16-496f-b207-f935dde84dd3",
   "metadata": {},
   "outputs": [
    {
     "data": {
      "text/plain": [
       "3.3333333333333335"
      ]
     },
     "execution_count": 11,
     "metadata": {},
     "output_type": "execute_result"
    }
   ],
   "source": [
    "#This will convert 200 minutes to hours by diving by 60\n",
    "200/60"
   ]
  },
  {
   "cell_type": "markdown",
   "id": "38d08ccf-7cef-419f-8fb2-53b32abe8f8e",
   "metadata": {},
   "source": [
    "**Objectives:**\n",
    "<ul>\n",
    "    <li>List popular languages for Data Science</li>\n",
    "    <li>List dev environments used for Data Science</li>\n",
    "    <li>Arithmetic expressions</li>\n",
    "    <li>Commonly used libaries for Data Science</li>\n",
    "</ul>"
   ]
  },
  {
   "cell_type": "markdown",
   "id": "deca0b00-c050-4b3c-87f4-d8aa7b2ff027",
   "metadata": {},
   "source": [
    "<h2>Author</h2>\n",
    "Engelberger-Semper Simon"
   ]
  }
 ],
 "metadata": {
  "kernelspec": {
   "display_name": "Python 3 (ipykernel)",
   "language": "python",
   "name": "python3"
  },
  "language_info": {
   "codemirror_mode": {
    "name": "ipython",
    "version": 3
   },
   "file_extension": ".py",
   "mimetype": "text/x-python",
   "name": "python",
   "nbconvert_exporter": "python",
   "pygments_lexer": "ipython3",
   "version": "3.12.4"
  }
 },
 "nbformat": 4,
 "nbformat_minor": 5
}
